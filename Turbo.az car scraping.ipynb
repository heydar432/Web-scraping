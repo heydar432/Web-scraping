{
 "cells": [
  {
   "cell_type": "code",
   "execution_count": 77,
   "metadata": {},
   "outputs": [],
   "source": [
    "import requests\n",
    "from bs4 import BeautifulSoup\n",
    "import pandas as pd\n",
    "import numpy as np"
   ]
  },
  {
   "cell_type": "code",
   "execution_count": null,
   "metadata": {},
   "outputs": [],
   "source": [
    "url_1 = 'https://turbo.az'\n",
    "pages_1 = '/autos?page='\n",
    "tails_1 = 'q%5Bsort%5D=&q%5Bmake%5D%5B%5D=8&q%5Bmodel%5D%5B%5D=&q%5Bused%5D=&q%5Bregion%5D%5B%5D=&q%5Bprice_from%5D=&q%5Bprice_to%5D=&q%5Bcurrency%5D=azn&q%5Bloan%5D=0&q%5Bbarter%5D=0&q%5Bcategory%5D%5B%5D=&q%5Byear_from%5D=&q%5Byear_to%5D=&q%5Bcolor%5D%5B%5D=&q%5Bfuel_type%5D%5B%5D=&q%5Bgear%5D%5B%5D=&q%5Btransmission%5D%5B%5D=&q%5Bengine_volume_from%5D=&q%5Bengine_volume_to%5D=&q%5Bpower_from%5D=&q%5Bpower_to%5D=&q%5Bmileage_from%5D=&q%5Bmileage_to%5D=&q%5Bonly_shops%5D=&q%5Bprior_owners_count%5D%5B%5D=&q%5Bseats_count%5D%5B%5D=&q%5Bmarket%5D%5B%5D=&q%5Bcrashed%5D=1&q%5Bpainted%5D=1&q%5Bfor_spare_parts%5D='\n",
    "banes = []\n",
    "\n",
    "for j in range(1,115):\n",
    "    res = requests.get(url_1 + pages_1 + str(j) + tails_1)\n",
    "    content = res.text\n",
    "    soup = BeautifulSoup(content, 'lxml')\n",
    "\n",
    "    class_colour = soup.find_all('a', class_=\"products-i__link\")\n",
    "    for i in class_colour:\n",
    "        url_2 = 'https://turbo.az'\n",
    "        tails_2 = i['href']\n",
    "\n",
    "        res = requests.get(url_2  + tails_2)\n",
    "        content = res.text\n",
    "        soup = BeautifulSoup(content, 'lxml')\n",
    "\n",
    "        class_headers = soup.find_all('label', class_='product-properties__i-name')\n",
    "        class_features = soup.find_all('span', class_='product-properties__i-value')\n",
    "        class_price = soup.find('div', class_='product-price__i product-price__i--bold')\n",
    "        class_number = soup.find('a', class_='product-phones__list-i')\n",
    "\n",
    "        class_saler_name_1 = soup.find('div', class_='product-shop__owner-name')\n",
    "        if class_saler_name_1 and class_saler_name_1.text.strip(): \n",
    "            saler_name = class_saler_name_1.text.strip()\n",
    "        else:\n",
    "            class_saler_name_2 = soup.find('div', class_='product-owner__info-name')\n",
    "            saler_name = class_saler_name_2.text.strip() if class_saler_name_2 else 'değer yok'\n",
    "\n",
    "        features_dict = {}\n",
    "        \n",
    "        for header, value in zip(class_headers, class_features):\n",
    "            features_dict[header.text.strip()] = value.text.strip()\n",
    "\n",
    "        features_list = []\n",
    "        name_list =[]\n",
    "        desired_keys = [\n",
    "            'Şəhər',\n",
    "            'Marka',\n",
    "            'Model',\n",
    "            'Buraxılış ili',\n",
    "            'Ban növü',\n",
    "            'Rəng',\n",
    "            'Mühərrik',\n",
    "            'Yürüş',\n",
    "            'Sürətlər qutusu',\n",
    "            'Ötürücü',\n",
    "            'Yeni',\n",
    "            'Yerlərin sayı',\n",
    "            'Sahiblər',\n",
    "            'Vəziyyəti',\n",
    "            'Hansı bazar üçün yığılıb']\n",
    "\n",
    "        for key in desired_keys:\n",
    "            features_list.append(features_dict.get(key, 'değer yok'))\n",
    "\n",
    "        features_list.append(class_price.text.strip())  # Append the price to list\n",
    "        features_list.append(url_2+tails_2)  # Append the product link to list\n",
    "        features_list.append(class_number.text.strip())  # Append the saler number to list\n",
    "        features_list.append(saler_name)  # Append the saler name to list\n",
    "\n",
    "        print(features_list)\n",
    "\n",
    "        banes.append(features_list)"
   ]
  },
  {
   "cell_type": "code",
   "execution_count": null,
   "metadata": {},
   "outputs": [],
   "source": [
    "headers = [\"City\", \"Brand\", \"Model\", \"Year\", \"Body Type\", \"Color\", \"Engine Details\", \"Mileage\", \"Transmission\", \"Drive Type\", \"İs_New?\", \"Seat Count\", \"Owner Count\", \"Condition\", \"Origin\",'Price','Product_link','Contact_number','Saler_name']\n",
    "df = pd.DataFrame(banes, columns=headers)\n"
   ]
  }
 ],
 "metadata": {
  "kernelspec": {
   "display_name": "base",
   "language": "python",
   "name": "python3"
  },
  "language_info": {
   "codemirror_mode": {
    "name": "ipython",
    "version": 3
   },
   "file_extension": ".py",
   "mimetype": "text/x-python",
   "name": "python",
   "nbconvert_exporter": "python",
   "pygments_lexer": "ipython3",
   "version": "3.11.4"
  },
  "orig_nbformat": 4,
  "vscode": {
   "interpreter": {
    "hash": "cb2587bb7b93b2ab6f5b81e13d7cbd9c975b4db143a315a6f67449e65b49c133"
   }
  }
 },
 "nbformat": 4,
 "nbformat_minor": 2
}
